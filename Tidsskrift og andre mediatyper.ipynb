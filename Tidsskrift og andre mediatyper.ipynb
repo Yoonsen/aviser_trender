{
 "cells": [
  {
   "cell_type": "markdown",
   "metadata": {},
   "source": [
    "# Søk i aviser"
   ]
  },
  {
   "cell_type": "code",
   "execution_count": 1,
   "metadata": {},
   "outputs": [
    {
     "data": {
      "text/markdown": [
       "Updated file `C:\\Users\\larsj\\Documents\\GitHub\\aviser_trender\\mods_meta.py`"
      ],
      "text/plain": [
       "<IPython.core.display.Markdown object>"
      ]
     },
     "metadata": {},
     "output_type": "display_data"
    }
   ],
   "source": [
    "import json\n",
    "import sqlite3\n",
    "import requests\n",
    "import pandas as pd\n",
    "import dhlab.module_update as mu\n",
    "mu.update('mods_meta')\n",
    "import mods_meta as mm\n",
    "import dhlab.nbtext as nb\n",
    "from dhlab.nbtokenizer import tokenize\n",
    "import re\n",
    "from IPython.display import Markdown\n",
    "from collections import Counter"
   ]
  },
  {
   "cell_type": "markdown",
   "metadata": {},
   "source": [
    "### fjern ellipser i pandarammer"
   ]
  },
  {
   "cell_type": "code",
   "execution_count": 2,
   "metadata": {},
   "outputs": [],
   "source": [
    "pd.set_option('display.max_colwidth', None)"
   ]
  },
  {
   "cell_type": "markdown",
   "metadata": {},
   "source": [
    "### Hjelpefunksjoner"
   ]
  },
  {
   "cell_type": "code",
   "execution_count": 6,
   "metadata": {},
   "outputs": [],
   "source": [
    "def nb_search(\n",
    "    term = '', \n",
    "    creator = None, \n",
    "    number = 50, \n",
    "    page = 0, \n",
    "    title = None,\n",
    "    mediatype = None, \n",
    "    lang = None,\n",
    "    period = None,\n",
    "    random = False\n",
    "):\n",
    "    \"\"\"Søk etter term og få ut json\"\"\"\n",
    "    \n",
    "    # max number of hits pr. page\n",
    "    # page has also a max of 50 - not checked\n",
    "    \n",
    "    number = min(number, 50)\n",
    "    \n",
    "    filters = []\n",
    "    aq = []\n",
    "    \n",
    "\n",
    "    params = {\n",
    "        'page':page, \n",
    "        'size':number,\n",
    "        'random': random\n",
    "    }\n",
    "    \n",
    "    if lang != None:\n",
    "        aq.append('languages:{lang}'.format(lang = lang ))\n",
    "    \n",
    "    if title != None:\n",
    "        filters.append('title:{title}'.format(title = title))\n",
    "        \n",
    "    if creator != None:\n",
    "        filters.append('creator:{c}'.format(c=creator))\n",
    "    \n",
    "    if mediatype != None:\n",
    "        filters.append('mediatype:{mediatype}'.format(mediatype=mediatype))\n",
    "    \n",
    "    if period != None:\n",
    "        filters.append('date:[{date_from} TO {date_to}]'.format(date_from = period[0], date_to = period[1]))\n",
    "    \n",
    "    if filters != []:\n",
    "        params['filter'] = filters\n",
    "    \n",
    "    if aq != []:\n",
    "        params['aq'] = aq\n",
    "        \n",
    "    if term != None:\n",
    "        params['q'] = '\"' + term + '\"'\n",
    "    \n",
    "    r = requests.get(\"https://api.nb.no:443/catalog/v1/items\", params = params)\n",
    "    return r.json()\n",
    "\n",
    "def find_urns_sesam(term = None, creator = None, number=50, page=0, lang = None, title = None, mediatype = None, \n",
    "                    period = None, random = False):\n",
    "    \"\"\"generates urns/sesamid from item search\"\"\"\n",
    "    x = nb_search(\n",
    "        term = term, creator = creator, title = title,\n",
    "        number = number, page = page, mediatype=mediatype, period = period, \n",
    "        lang = lang,\n",
    "        random = random\n",
    "    )\n",
    "    try:\n",
    "        sesamid =[f['id'] for f in x['_embedded']['items']]\n",
    "    except:\n",
    "        sesamid = []\n",
    "    return sesamid\n",
    "\n",
    "\n",
    "def find_items(term = None, \n",
    "               creator = None, \n",
    "               number = 100, \n",
    "               lang = None, \n",
    "               title = None, \n",
    "               mediatype = None, \n",
    "                period = None\n",
    "              ):\n",
    "    \"\"\"find ids from a spec\"\"\"\n",
    "    pages = number // 50\n",
    "    lastnumbers = number % 50\n",
    "    print(pages, lastnumbers)\n",
    "    res = []\n",
    "    # fetch ids from pages, max hits\n",
    "    for page in range(pages):\n",
    "        x = nb_search(\n",
    "            term = term, creator = creator, title = title,\n",
    "            number = 50, page = page, mediatype = mediatype, period = period, \n",
    "            lang = lang\n",
    "        )\n",
    "        res += [f['id'] for f in x['_embedded']['items']]\n",
    "\n",
    "    # fetch ids from last page\n",
    "    x = nb_search(\n",
    "            term = term, creator = creator, title = title,\n",
    "            number = lastnumbers, page = pages + 1, mediatype=mediatype, period = period, \n",
    "            lang = lang)\n",
    "    res += [f['id'] for f in x['_embedded']['items']]\n",
    "                  \n",
    "    return res\n",
    "\n",
    "def fetch_keys(m, path, delimiter = \"/\", res = [], start_list = '#'):\n",
    "    \"\"\"path /-delimited string, return res if fails, array indices indicaed with start_list\"\"\"\n",
    "    \n",
    "    # get the sequence of path elements\n",
    "    path = path.split(delimiter)\n",
    "    \n",
    "    x = m\n",
    "    try:\n",
    "        for i in range(0, len(path)):\n",
    "            if path[i].startswith(start_list):\n",
    "                # then the item is an array selector\n",
    "                index = int(path[i].split(start_list)[-1])\n",
    "                x = x[index]\n",
    "            else:\n",
    "                x = x[path[i]]\n",
    "    except KeyError:\n",
    "        x = res\n",
    "    return x\n",
    "        \n",
    "def find_item(data, item):\n",
    "    res = []\n",
    "    if isinstance(data, list):\n",
    "        print('list', data)\n",
    "        for subdata in data:\n",
    "            res += find_item(subdata, item)\n",
    "    elif isinstance(data, dict):\n",
    "        for key in data:\n",
    "            if item in data[key]:\n",
    "                print('dictvalue',key, data[key])\n",
    "                res.append(data[key][item])\n",
    "            else:\n",
    "                res += find_item(data[key], item)\n",
    "    return res\n",
    "\n",
    "def metadata(id):\n",
    "    r = requests.get(\"https://api.nb.no:443/catalog/v1/items/\" + str(id))\n",
    "\n",
    "    d = r.json()\n",
    "    res = {\n",
    "        'title': fetch_keys(d, 'metadata/title'),\n",
    "        'contr':[(fetch_keys(x, 'name'), fetch_keys(x, 'roles/#0/name')) for x in fetch_keys(d, 'metadata/people')],\n",
    "        'pages': fetch_keys(d, 'metadata/physicalDescription/extent'),\n",
    "        'urn': fetch_keys(d, 'metadata/identifiers/urn'),\n",
    "        'year': fetch_keys(d, 'metadata/originInfo/issued'),\n",
    "        'topics':fetch_keys(d, 'metadata/subject/topics'),\n",
    "        'genres': fetch_keys(d, 'metadata/genres'),\n",
    "        'target_group':fetch_keys(d, 'metadata/targetAudienceNotes')\n",
    "                            \n",
    "    }\n",
    "\n",
    "    return res\n",
    "\n",
    "def get_konks(urn, phrase, window = 500, n = 1000):\n",
    "    import requests\n",
    "    querystring = '\"'+ phrase +'\"' \n",
    "    query = {\n",
    "        'q':querystring,\n",
    "        'fragments': n,\n",
    "        'fragSize':window\n",
    "       \n",
    "    }\n",
    "    r = requests.get(\"https://api.nb.no/catalog/v1/items/{urn}/contentfragments\".format(urn=urn), params = query)\n",
    "    res = r.json()\n",
    "    results = []\n",
    "    try:\n",
    "        for x in res['contentFragments']:\n",
    "            pid = x['pageid']\n",
    "            hit = x['text']\n",
    "            splits = hit.split('<em>')\n",
    "            s2 = splits[1].split('</em>')\n",
    "            before = splits[0]\n",
    "            word = s2[0]\n",
    "            after = s2[1]\n",
    "            results.append({'urn': urn, 'before': before, 'word':word, 'after':after})\n",
    "    except:\n",
    "        True\n",
    "    return results\n",
    "\n",
    "def get_konkordanser(word = '', urns = None, window = 500, n = 1000):\n",
    "    konks = []\n",
    "    for u in urns:\n",
    "        konks += get_konks(u, word, window = window, n = n)\n",
    "    return konks"
   ]
  },
  {
   "cell_type": "code",
   "execution_count": 4,
   "metadata": {},
   "outputs": [],
   "source": [
    "def count_from_conc(concordance):\n",
    "    \"\"\"From a concordance, count the words in it. Assume konks reside a dataframe with columns 'after' and 'before'\"\"\"\n",
    "    word = concordance['word'][0]\n",
    "    return nb.frame_sort(nb.frame(Counter(tokenize(' '.join(concordance['after'].values + concordance['before'].values))), word))\n",
    "\n",
    "def count_from_conc_window(concordance, before = 5, after = 5):\n",
    "    \"\"\"From a concordance, count the words in it. Assume konks reside a dataframe with columns 'after' and 'before'\"\"\"\n",
    "    word = concordance['word'][0]\n",
    "    # join before and after\n",
    "    return nb.frame_sort(\n",
    "            nb.frame(\n",
    "                Counter(\n",
    "                    [tokens for toklists in [tokenize(c)[:after] for c in concordance['after'].values] for tokens in toklists] \n",
    "                    + \n",
    "                    [tokens for toklists in [tokenize(c)[-before:] for c in concordance['before'].values] for tokens in toklists]\n",
    "                )\n",
    "            ), \n",
    "            word\n",
    "        )"
   ]
  },
  {
   "cell_type": "markdown",
   "metadata": {},
   "source": [
    "# Søk etter aviser"
   ]
  },
  {
   "cell_type": "code",
   "execution_count": 10,
   "metadata": {},
   "outputs": [],
   "source": [
    "rand = set()\n",
    "for i in range(20):\n",
    "    rand |= set(find_urns_sesam('skandinaviske* ide*',  number = 50, random = True, mediatype = 'aviser', title = None, period=(17900101, 19201231) ))"
   ]
  },
  {
   "cell_type": "code",
   "execution_count": 11,
   "metadata": {},
   "outputs": [
    {
     "data": {
      "text/plain": [
       "179"
      ]
     },
     "execution_count": 11,
     "metadata": {},
     "output_type": "execute_result"
    }
   ],
   "source": [
    "len(rand)"
   ]
  },
  {
   "cell_type": "code",
   "execution_count": null,
   "metadata": {},
   "outputs": [],
   "source": []
  },
  {
   "cell_type": "code",
   "execution_count": 12,
   "metadata": {},
   "outputs": [],
   "source": [
    "konk = pd.DataFrame(get_konkordanser('skandinaviske* ide*', urns = rand, window = 500))"
   ]
  },
  {
   "cell_type": "code",
   "execution_count": 13,
   "metadata": {},
   "outputs": [
    {
     "data": {
      "text/html": [
       "<div>\n",
       "<style scoped>\n",
       "    .dataframe tbody tr th:only-of-type {\n",
       "        vertical-align: middle;\n",
       "    }\n",
       "\n",
       "    .dataframe tbody tr th {\n",
       "        vertical-align: top;\n",
       "    }\n",
       "\n",
       "    .dataframe thead th {\n",
       "        text-align: right;\n",
       "    }\n",
       "</style>\n",
       "<table border=\"1\" class=\"dataframe\">\n",
       "  <thead>\n",
       "    <tr style=\"text-align: right;\">\n",
       "      <th></th>\n",
       "      <th>urn</th>\n",
       "      <th>before</th>\n",
       "      <th>word</th>\n",
       "      <th>after</th>\n",
       "    </tr>\n",
       "  </thead>\n",
       "  <tbody>\n",
       "    <tr>\n",
       "      <th>0</th>\n",
       "      <td>9abc1040e2c5fca1ee2c8d1ce63c59a9</td>\n",
       "      <td>den norske Ministerpræsident, den fhv. Antiskandinav Ha-anden til fortsatte nordiske Tilnærmelser, forende den</td>\n",
       "      <td>skandinaviske Ide</td>\n",
       "      <td>fremad? Sandelig de gamle varmblodige, om end ofte «praktiske og doktrinære, Storslan» dinaver maa</td>\n",
       "    </tr>\n",
       "    <tr>\n",
       "      <th>1</th>\n",
       "      <td>ee8e14c8d159f7c321272b3e7063c67e</td>\n",
       "      <td>samt praktiske Reformer til Samhold og Styrke mellem Broderfolkene indad som udad. Maaske var den</td>\n",
       "      <td>skandinaviske Ide</td>\n",
       "      <td>dengang ikke moden til Gjennemftrclse, men ben egentlige Aarsag til, at Selskabets Virksomhed fik</td>\n",
       "    </tr>\n",
       "    <tr>\n",
       "      <th>2</th>\n",
       "      <td>d90169b96a319c75e778aaf0511299a7</td>\n",
       "      <td>endnu formaste sig til i deres Spalter at behandle Skandinavismen for et at sige \"den</td>\n",
       "      <td>skandinaviske Ide\",</td>\n",
       "      <td>faalebe« fom den fra danst Side nu kan behandles med en ikke faa ringe Tilsætning af</td>\n",
       "    </tr>\n",
       "    <tr>\n",
       "      <th>3</th>\n",
       "      <td>7bdc2a353d5a9789a091e9f69af55a6c</td>\n",
       "      <td>paa hjer te, hvad liden kra \\et ar ilein ; han belyste Btudenternes stilling til tien</td>\n",
       "      <td>skandinaviske ide</td>\n",
       "      <td>og op fordrei alle i sandhetens, fwdrolandets &lt; Btudentenerens navn til *- Baafreml ikke høiere</td>\n",
       "    </tr>\n",
       "    <tr>\n",
       "      <th>4</th>\n",
       "      <td>0a25d64d17fbf7754554bf52c8322e64</td>\n",
       "      <td>her tillands endnu ikke er kommen til nogen \"fuldkommen klar Bevidsthed\" med Hensyn til den</td>\n",
       "      <td>skandinaviske Ide,</td>\n",
       "      <td>kunde imidlertid vistnok mest passende vcrret borte, iscrr da Festen gjaldt Folk, der dog ikke</td>\n",
       "    </tr>\n",
       "    <tr>\n",
       "      <th>...</th>\n",
       "      <td>...</td>\n",
       "      <td>...</td>\n",
       "      <td>...</td>\n",
       "      <td>...</td>\n",
       "    </tr>\n",
       "    <tr>\n",
       "      <th>236</th>\n",
       "      <td>db1be6e688ec918ad40b10c7886e1d88</td>\n",
       "      <td>har indbudt Grundtvig, efter bet Sljenbffab ben übaatbiblelig maa have til bane Opfatning af den</td>\n",
       "      <td>skandinaviske Ide,</td>\n",
       "      <td>bet er bet fom glæber os saameget, fordi bi deri fe et Veviis paa, at den studerende</td>\n",
       "    </tr>\n",
       "    <tr>\n",
       "      <th>237</th>\n",
       "      <td>0062c689b1f2aef2058d528db5e223bc</td>\n",
       "      <td>fornuftig Aarsag eller Anledning for den kongl. danske Regjering til at udtale sig om den</td>\n",
       "      <td>skandinaviske Ide</td>\n",
       "      <td>og den af samme vakte Bevægelse; hvis der paahvilede den nogen Skygge af Mistanke om, at</td>\n",
       "    </tr>\n",
       "    <tr>\n",
       "      <th>238</th>\n",
       "      <td>0062c689b1f2aef2058d528db5e223bc</td>\n",
       "      <td>at rose „begge nordiske Suvercencr\" for den Klogskab, de bave vist, ved ligeover for den</td>\n",
       "      <td>skandinaviske Ide,</td>\n",
       "      <td>„at iagttage den passive Optræden, for hvilken de have bestemt sig.\" Denne Ros, viser det sig</td>\n",
       "    </tr>\n",
       "    <tr>\n",
       "      <th>239</th>\n",
       "      <td>0062c689b1f2aef2058d528db5e223bc</td>\n",
       "      <td>vi tro ved en anden Lejlighed er blevet sagt: at i Sommer have Nordens Konger lyst den</td>\n",
       "      <td>skandinaviske Ide</td>\n",
       "      <td>i Kuld og Kjon. Naar Hr. v. Scheel altsaa nu roser Monarkerne for en Klogskab, som de</td>\n",
       "    </tr>\n",
       "    <tr>\n",
       "      <th>240</th>\n",
       "      <td>cde8d274e657cc67819d0bdc60706c03</td>\n",
       "      <td>nf stor Betydning. I ben ©ib, ba man her som i Sverige og Norge svcermcde for den</td>\n",
       "      <td>skandinaviske Ide,</td>\n",
       "      <td>Horte jo nordiske ©tttbcntevmøbev, faa her, faa hist tilbe Faktorer, som antoge« at fremme denne</td>\n",
       "    </tr>\n",
       "  </tbody>\n",
       "</table>\n",
       "<p>241 rows × 4 columns</p>\n",
       "</div>"
      ],
      "text/plain": [
       "                                  urn  \\\n",
       "0    9abc1040e2c5fca1ee2c8d1ce63c59a9   \n",
       "1    ee8e14c8d159f7c321272b3e7063c67e   \n",
       "2    d90169b96a319c75e778aaf0511299a7   \n",
       "3    7bdc2a353d5a9789a091e9f69af55a6c   \n",
       "4    0a25d64d17fbf7754554bf52c8322e64   \n",
       "..                                ...   \n",
       "236  db1be6e688ec918ad40b10c7886e1d88   \n",
       "237  0062c689b1f2aef2058d528db5e223bc   \n",
       "238  0062c689b1f2aef2058d528db5e223bc   \n",
       "239  0062c689b1f2aef2058d528db5e223bc   \n",
       "240  cde8d274e657cc67819d0bdc60706c03   \n",
       "\n",
       "                                                                                                              before  \\\n",
       "0    den norske Ministerpræsident, den fhv. Antiskandinav Ha-anden til fortsatte nordiske Tilnærmelser, forende den    \n",
       "1                 samt praktiske Reformer til Samhold og Styrke mellem Broderfolkene indad som udad. Maaske var den    \n",
       "2                             endnu formaste sig til i deres Spalter at behandle Skandinavismen for et at sige \"den    \n",
       "3                             paa hjer te, hvad liden kra \\et ar ilein ; han belyste Btudenternes stilling til tien    \n",
       "4                       her tillands endnu ikke er kommen til nogen \"fuldkommen klar Bevidsthed\" med Hensyn til den    \n",
       "..                                                                                                               ...   \n",
       "236                har indbudt Grundtvig, efter bet Sljenbffab ben übaatbiblelig maa have til bane Opfatning af den    \n",
       "237                       fornuftig Aarsag eller Anledning for den kongl. danske Regjering til at udtale sig om den    \n",
       "238                        at rose „begge nordiske Suvercencr\" for den Klogskab, de bave vist, ved ligeover for den    \n",
       "239                          vi tro ved en anden Lejlighed er blevet sagt: at i Sommer have Nordens Konger lyst den    \n",
       "240                               nf stor Betydning. I ben ©ib, ba man her som i Sverige og Norge svcermcde for den    \n",
       "\n",
       "                    word  \\\n",
       "0      skandinaviske Ide   \n",
       "1      skandinaviske Ide   \n",
       "2    skandinaviske Ide\",   \n",
       "3      skandinaviske ide   \n",
       "4     skandinaviske Ide,   \n",
       "..                   ...   \n",
       "236   skandinaviske Ide,   \n",
       "237    skandinaviske Ide   \n",
       "238   skandinaviske Ide,   \n",
       "239    skandinaviske Ide   \n",
       "240   skandinaviske Ide,   \n",
       "\n",
       "                                                                                                   after  \n",
       "0     fremad? Sandelig de gamle varmblodige, om end ofte «praktiske og doktrinære, Storslan» dinaver maa  \n",
       "1      dengang ikke moden til Gjennemftrclse, men ben egentlige Aarsag til, at Selskabets Virksomhed fik  \n",
       "2                   faalebe« fom den fra danst Side nu kan behandles med en ikke faa ringe Tilsætning af  \n",
       "3        og op fordrei alle i sandhetens, fwdrolandets < Btudentenerens navn til *- Baafreml ikke høiere  \n",
       "4         kunde imidlertid vistnok mest passende vcrret borte, iscrr da Festen gjaldt Folk, der dog ikke  \n",
       "..                                                                                                   ...  \n",
       "236                 bet er bet fom glæber os saameget, fordi bi deri fe et Veviis paa, at den studerende  \n",
       "237             og den af samme vakte Bevægelse; hvis der paahvilede den nogen Skygge af Mistanke om, at  \n",
       "238        „at iagttage den passive Optræden, for hvilken de have bestemt sig.\" Denne Ros, viser det sig  \n",
       "239                i Kuld og Kjon. Naar Hr. v. Scheel altsaa nu roser Monarkerne for en Klogskab, som de  \n",
       "240     Horte jo nordiske ©tttbcntevmøbev, faa her, faa hist tilbe Faktorer, som antoge« at fremme denne  \n",
       "\n",
       "[241 rows x 4 columns]"
      ]
     },
     "execution_count": 13,
     "metadata": {},
     "output_type": "execute_result"
    }
   ],
   "source": [
    "konk"
   ]
  },
  {
   "cell_type": "code",
   "execution_count": 14,
   "metadata": {},
   "outputs": [],
   "source": [
    "konks = lambda x: pd.DataFrame(get_konkordanser(x, urns = rand, window = 500))"
   ]
  },
  {
   "cell_type": "markdown",
   "metadata": {},
   "source": [
    "### For kollokasjoner, lag en referanse\n"
   ]
  },
  {
   "cell_type": "code",
   "execution_count": null,
   "metadata": {},
   "outputs": [],
   "source": [
    "ref = nb.frame(nb.totals(500), 'tot')"
   ]
  },
  {
   "cell_type": "markdown",
   "metadata": {},
   "source": [
    "### Hent en kollokasjon \n",
    "\n",
    "Kollokasjonene tar utgangspunkt i en konkordans. Parametre er før og etter"
   ]
  },
  {
   "cell_type": "code",
   "execution_count": null,
   "metadata": {},
   "outputs": [],
   "source": [
    "coll = count_from_conc_window(konk, before = 5, after = 5)"
   ]
  },
  {
   "cell_type": "code",
   "execution_count": null,
   "metadata": {},
   "outputs": [],
   "source": [
    "def make_coll(word, urns, before = 5, after = 5, ref = ref):\n",
    "    konk = pd.DataFrame(get_konkordanser(word, urns = urns, window = 500))\n",
    "    coll = count_from_conc_window(konk, before = 5, after = 5)\n",
    "    coll['pmi'] = coll[0]/ref.tot\n",
    "    return nb.frame_sort(coll, 'pmi')"
   ]
  },
  {
   "cell_type": "markdown",
   "metadata": {},
   "source": [
    "### lager en vektingskolonne\n",
    "\n",
    "Kolonne kalt `pmi` for  pointwise mutual information.\n",
    "\n",
    "$\\textrm{pmi} = \\frac{\\textrm{collocation frequencies}}{\\textrm{reference frequencies}}$"
   ]
  },
  {
   "cell_type": "code",
   "execution_count": null,
   "metadata": {},
   "outputs": [],
   "source": [
    "coll['pmi'] = coll[0]/ref.tot"
   ]
  },
  {
   "cell_type": "code",
   "execution_count": null,
   "metadata": {},
   "outputs": [],
   "source": [
    "nb.frame_sort(coll, 'pmi').head(50)"
   ]
  },
  {
   "cell_type": "code",
   "execution_count": null,
   "metadata": {},
   "outputs": [],
   "source": [
    "coll.sum()"
   ]
  }
 ],
 "metadata": {
  "kernelspec": {
   "display_name": "Python 3",
   "language": "python",
   "name": "python3"
  },
  "language_info": {
   "codemirror_mode": {
    "name": "ipython",
    "version": 3
   },
   "file_extension": ".py",
   "mimetype": "text/x-python",
   "name": "python",
   "nbconvert_exporter": "python",
   "pygments_lexer": "ipython3",
   "version": "3.8.3"
  }
 },
 "nbformat": 4,
 "nbformat_minor": 4
}
